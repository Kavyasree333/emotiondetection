{
 "cells": [
  {
   "cell_type": "markdown",
   "metadata": {},
   "source": [
    "Please install the roboflow dataset before checking into the code\n",
    "\n",
    "link - https://universe.roboflow.com/vietnamesegerman-university-mavjh/emotion-recognition-rjl9w"
   ]
  },
  {
   "cell_type": "code",
   "execution_count": 1,
   "metadata": {},
   "outputs": [],
   "source": [
    "import numpy as np\n",
    "import pandas as pd\n",
    "import cv2\n",
    "import os"
   ]
  },
  {
   "cell_type": "code",
   "execution_count": 2,
   "metadata": {},
   "outputs": [],
   "source": [
    "outer_names = ['test','train']\n",
    "inner_names = ['angry', 'disgusted', 'fearful', 'happy', 'sad', 'surprised', 'neutral']\n",
    "os.makedirs('data', exist_ok=True)\n",
    "for outer_name in outer_names:\n",
    "    os.makedirs(os.path.join('data',outer_name), exist_ok=True)\n",
    "    for inner_name in inner_names:\n",
    "        os.makedirs(os.path.join('data',outer_name,inner_name), exist_ok=True)"
   ]
  },
  {
   "cell_type": "code",
   "execution_count": 3,
   "metadata": {},
   "outputs": [
    {
     "data": {
      "text/html": [
       "<div>\n",
       "<style scoped>\n",
       "    .dataframe tbody tr th:only-of-type {\n",
       "        vertical-align: middle;\n",
       "    }\n",
       "\n",
       "    .dataframe tbody tr th {\n",
       "        vertical-align: top;\n",
       "    }\n",
       "\n",
       "    .dataframe thead th {\n",
       "        text-align: right;\n",
       "    }\n",
       "</style>\n",
       "<table border=\"1\" class=\"dataframe\">\n",
       "  <thead>\n",
       "    <tr style=\"text-align: right;\">\n",
       "      <th></th>\n",
       "      <th>filename</th>\n",
       "      <th>width</th>\n",
       "      <th>height</th>\n",
       "      <th>class</th>\n",
       "      <th>xmin</th>\n",
       "      <th>ymin</th>\n",
       "      <th>xmax</th>\n",
       "      <th>ymax</th>\n",
       "    </tr>\n",
       "  </thead>\n",
       "  <tbody>\n",
       "    <tr>\n",
       "      <th>0</th>\n",
       "      <td>image0032206_jpg.rf.f9abc7ef2b61f6017580d09be7...</td>\n",
       "      <td>640</td>\n",
       "      <td>640</td>\n",
       "      <td>Fear</td>\n",
       "      <td>111</td>\n",
       "      <td>144</td>\n",
       "      <td>482</td>\n",
       "      <td>622</td>\n",
       "    </tr>\n",
       "    <tr>\n",
       "      <th>1</th>\n",
       "      <td>image0036315_jpg.rf.f997bd1339b10121ab516d8c6f...</td>\n",
       "      <td>640</td>\n",
       "      <td>640</td>\n",
       "      <td>Contempt</td>\n",
       "      <td>170</td>\n",
       "      <td>157</td>\n",
       "      <td>574</td>\n",
       "      <td>548</td>\n",
       "    </tr>\n",
       "    <tr>\n",
       "      <th>2</th>\n",
       "      <td>image0026247_jpg.rf.f9bc465fb712286a63b3c72231...</td>\n",
       "      <td>640</td>\n",
       "      <td>640</td>\n",
       "      <td>Sad</td>\n",
       "      <td>130</td>\n",
       "      <td>122</td>\n",
       "      <td>515</td>\n",
       "      <td>614</td>\n",
       "    </tr>\n",
       "    <tr>\n",
       "      <th>3</th>\n",
       "      <td>image0012207_jpg.rf.f9d2941269c0c4106f9a2e96a6...</td>\n",
       "      <td>640</td>\n",
       "      <td>640</td>\n",
       "      <td>Sad</td>\n",
       "      <td>116</td>\n",
       "      <td>126</td>\n",
       "      <td>542</td>\n",
       "      <td>539</td>\n",
       "    </tr>\n",
       "    <tr>\n",
       "      <th>4</th>\n",
       "      <td>image0035145_jpg.rf.f9bd1402eda2b5060eab0a5f45...</td>\n",
       "      <td>640</td>\n",
       "      <td>640</td>\n",
       "      <td>Fear</td>\n",
       "      <td>136</td>\n",
       "      <td>91</td>\n",
       "      <td>581</td>\n",
       "      <td>567</td>\n",
       "    </tr>\n",
       "  </tbody>\n",
       "</table>\n",
       "</div>"
      ],
      "text/plain": [
       "                                            filename  width  height     class  \\\n",
       "0  image0032206_jpg.rf.f9abc7ef2b61f6017580d09be7...    640     640      Fear   \n",
       "1  image0036315_jpg.rf.f997bd1339b10121ab516d8c6f...    640     640  Contempt   \n",
       "2  image0026247_jpg.rf.f9bc465fb712286a63b3c72231...    640     640       Sad   \n",
       "3  image0012207_jpg.rf.f9d2941269c0c4106f9a2e96a6...    640     640       Sad   \n",
       "4  image0035145_jpg.rf.f9bd1402eda2b5060eab0a5f45...    640     640      Fear   \n",
       "\n",
       "   xmin  ymin  xmax  ymax  \n",
       "0   111   144   482   622  \n",
       "1   170   157   574   548  \n",
       "2   130   122   515   614  \n",
       "3   116   126   542   539  \n",
       "4   136    91   581   567  "
      ]
     },
     "execution_count": 3,
     "metadata": {},
     "output_type": "execute_result"
    }
   ],
   "source": [
    "train_csv= pd.read_csv(\"./roboflow/train/_annotations.csv\")\n",
    "train_csv.head()"
   ]
  },
  {
   "cell_type": "code",
   "execution_count": 5,
   "metadata": {},
   "outputs": [
    {
     "name": "stdout",
     "output_type": "stream",
     "text": [
      "Aggregated training data\n"
     ]
    }
   ],
   "source": [
    "for i in range(len(train_csv)):\n",
    "    img_name=train_csv['filename'][i]\n",
    "    img_name=\"./roboflow/train/\"+img_name\n",
    "    img=cv2.imread(img_name)\n",
    "    x,y,w,h=train_csv['xmin'][i],train_csv['ymin'][i],train_csv['xmax'][i],train_csv['ymax'][i]\n",
    "    cropped_img = img[y:h, x:w]\n",
    "    grayscale_img = cv2.cvtColor(cropped_img, cv2.COLOR_BGR2GRAY)\n",
    "    dic={'Fear':'./data/train/fear','Anger':'./data/train/angry','Surprise':'./data/train/surprise','Neutral':'./data/train/neutral','Disgust':'./data/train/disgust','Happy':'./data/train/happy','Sad':'./data/train/sad'}\n",
    "    if(train_csv['class'][i] in dic):\n",
    "        filename=dic[train_csv['class'][i]]+\"/image\"+str(i)+\".jpg\"\n",
    "        cv2.imwrite(filename,grayscale_img)\n",
    "print(\"Aggregated training data\")"
   ]
  },
  {
   "cell_type": "code",
   "execution_count": 6,
   "metadata": {},
   "outputs": [
    {
     "data": {
      "text/html": [
       "<div>\n",
       "<style scoped>\n",
       "    .dataframe tbody tr th:only-of-type {\n",
       "        vertical-align: middle;\n",
       "    }\n",
       "\n",
       "    .dataframe tbody tr th {\n",
       "        vertical-align: top;\n",
       "    }\n",
       "\n",
       "    .dataframe thead th {\n",
       "        text-align: right;\n",
       "    }\n",
       "</style>\n",
       "<table border=\"1\" class=\"dataframe\">\n",
       "  <thead>\n",
       "    <tr style=\"text-align: right;\">\n",
       "      <th></th>\n",
       "      <th>filename</th>\n",
       "      <th>width</th>\n",
       "      <th>height</th>\n",
       "      <th>class</th>\n",
       "      <th>xmin</th>\n",
       "      <th>ymin</th>\n",
       "      <th>xmax</th>\n",
       "      <th>ymax</th>\n",
       "    </tr>\n",
       "  </thead>\n",
       "  <tbody>\n",
       "    <tr>\n",
       "      <th>0</th>\n",
       "      <td>image0004179_jpg.rf.004f96bf9301c7ec735b747df1...</td>\n",
       "      <td>640</td>\n",
       "      <td>640</td>\n",
       "      <td>Sad</td>\n",
       "      <td>84</td>\n",
       "      <td>122</td>\n",
       "      <td>493</td>\n",
       "      <td>552</td>\n",
       "    </tr>\n",
       "    <tr>\n",
       "      <th>1</th>\n",
       "      <td>image0000332_jpg.rf.007922014fb483ed7fb3528b43...</td>\n",
       "      <td>640</td>\n",
       "      <td>640</td>\n",
       "      <td>Sad</td>\n",
       "      <td>146</td>\n",
       "      <td>130</td>\n",
       "      <td>496</td>\n",
       "      <td>592</td>\n",
       "    </tr>\n",
       "    <tr>\n",
       "      <th>2</th>\n",
       "      <td>image0003317_jpg.rf.0095cc13c559641d14a6c214bd...</td>\n",
       "      <td>640</td>\n",
       "      <td>640</td>\n",
       "      <td>Happy</td>\n",
       "      <td>167</td>\n",
       "      <td>162</td>\n",
       "      <td>471</td>\n",
       "      <td>524</td>\n",
       "    </tr>\n",
       "    <tr>\n",
       "      <th>3</th>\n",
       "      <td>image0002318_jpg.rf.010d5ba812a34bc5186ef315e2...</td>\n",
       "      <td>640</td>\n",
       "      <td>640</td>\n",
       "      <td>Anger</td>\n",
       "      <td>71</td>\n",
       "      <td>153</td>\n",
       "      <td>527</td>\n",
       "      <td>596</td>\n",
       "    </tr>\n",
       "    <tr>\n",
       "      <th>4</th>\n",
       "      <td>image0000920_jpg.rf.00cde085673b8549202a5ecba7...</td>\n",
       "      <td>640</td>\n",
       "      <td>640</td>\n",
       "      <td>Contempt</td>\n",
       "      <td>91</td>\n",
       "      <td>124</td>\n",
       "      <td>592</td>\n",
       "      <td>583</td>\n",
       "    </tr>\n",
       "  </tbody>\n",
       "</table>\n",
       "</div>"
      ],
      "text/plain": [
       "                                            filename  width  height     class  \\\n",
       "0  image0004179_jpg.rf.004f96bf9301c7ec735b747df1...    640     640       Sad   \n",
       "1  image0000332_jpg.rf.007922014fb483ed7fb3528b43...    640     640       Sad   \n",
       "2  image0003317_jpg.rf.0095cc13c559641d14a6c214bd...    640     640     Happy   \n",
       "3  image0002318_jpg.rf.010d5ba812a34bc5186ef315e2...    640     640     Anger   \n",
       "4  image0000920_jpg.rf.00cde085673b8549202a5ecba7...    640     640  Contempt   \n",
       "\n",
       "   xmin  ymin  xmax  ymax  \n",
       "0    84   122   493   552  \n",
       "1   146   130   496   592  \n",
       "2   167   162   471   524  \n",
       "3    71   153   527   596  \n",
       "4    91   124   592   583  "
      ]
     },
     "execution_count": 6,
     "metadata": {},
     "output_type": "execute_result"
    }
   ],
   "source": [
    "valid_csv=pd.read_csv(\"./roboflow/valid/_annotations.csv\")\n",
    "valid_csv.head()"
   ]
  },
  {
   "cell_type": "code",
   "execution_count": 7,
   "metadata": {},
   "outputs": [
    {
     "name": "stdout",
     "output_type": "stream",
     "text": [
      "Aggregated validation data\n"
     ]
    }
   ],
   "source": [
    "for i in range(len(valid_csv)):\n",
    "    img_name=valid_csv['filename'][i]\n",
    "    img_name=\"./roboflow/valid/\"+img_name\n",
    "    img=cv2.imread(img_name)\n",
    "    x,y,w,h=valid_csv['xmin'][i],valid_csv['ymin'][i],valid_csv['xmax'][i],valid_csv['ymax'][i]\n",
    "    cropped_img = img[y:h, x:w]\n",
    "    grayscale_img = cv2.cvtColor(cropped_img, cv2.COLOR_BGR2GRAY)\n",
    "    dic={'Fear':'./data/valid/fear','Anger':'./data/valid/angry','Surprise':'./data/valid/surprise','Neutral':'./data/valid/neutral','Disgust':'./data/valid/disgust','Happy':'./data/valid/happy','Sad':'./data/valid/sad'}\n",
    "    if(valid_csv['class'][i] in dic):\n",
    "        filename=dic[valid_csv['class'][i]]+\"/image\"+str(i)+\".jpg\"\n",
    "        cv2.imwrite(filename,grayscale_img)\n",
    "print(\"Aggregated validation data\")"
   ]
  }
 ],
 "metadata": {
  "kernelspec": {
   "display_name": "Python 3",
   "language": "python",
   "name": "python3"
  },
  "language_info": {
   "codemirror_mode": {
    "name": "ipython",
    "version": 3
   },
   "file_extension": ".py",
   "mimetype": "text/x-python",
   "name": "python",
   "nbconvert_exporter": "python",
   "pygments_lexer": "ipython3",
   "version": "3.11.4"
  }
 },
 "nbformat": 4,
 "nbformat_minor": 2
}
